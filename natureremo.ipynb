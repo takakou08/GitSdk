{
  "nbformat": 4,
  "nbformat_minor": 0,
  "metadata": {
    "colab": {
      "provenance": [],
      "authorship_tag": "ABX9TyMQ7tmYDyzo5d8puV+43LwA",
      "include_colab_link": true
    },
    "kernelspec": {
      "name": "python3",
      "display_name": "Python 3"
    },
    "language_info": {
      "name": "python"
    }
  },
  "cells": [
    {
      "cell_type": "markdown",
      "metadata": {
        "id": "view-in-github",
        "colab_type": "text"
      },
      "source": [
        "<a href=\"https://colab.research.google.com/github/takakou08/GitSdk/blob/master/natureremo.ipynb\" target=\"_parent\"><img src=\"https://colab.research.google.com/assets/colab-badge.svg\" alt=\"Open In Colab\"/></a>"
      ]
    },
    {
      "cell_type": "code",
      "execution_count": 1,
      "metadata": {
        "colab": {
          "base_uri": "https://localhost:8080/"
        },
        "id": "1wv2LrYDOiu0",
        "outputId": "500349b0-ff6e-49bb-ca62-d1f13d68e300"
      },
      "outputs": [
        {
          "output_type": "stream",
          "name": "stdout",
          "text": [
            "温度 : 24.9度\n",
            "湿度 : 60%\n",
            "明るさは : 200度\n",
            "人感センサー :3日前\n"
          ]
        }
      ],
      "source": [
        "\n",
        "from urllib.parse import urlencode\n",
        "from urllib.request import urlopen, Request\n",
        "from urllib.error import HTTPError\n",
        "from json import loads\n",
        "import datetime\n",
        "\n",
        "api_key = \"wq-Cj1UBGmix8ZQu4llv3d4dnoB61UZRek1sk83mMs0.tcslmtYf6QYW3ssnbo9_TyM1ObK7YDkbbSqCyNBd-pk\" # APIアクセストークン\n",
        "\n",
        "url = \"https://api.nature.global/1/devices/\"\n",
        "\n",
        "headers = {\n",
        "    \"accept\" :\"application/json\",\n",
        "    \"Authorization\" :\"Bearer \" + api_key,\n",
        "}\n",
        "\n",
        "request = Request(url, headers=headers)\n",
        "\n",
        "try:\n",
        "  with urlopen(request) as response:\n",
        "    data_byte = response.read()\n",
        "    data= loads(data_byte)\n",
        "except HTTPError as e:\n",
        "    print(e)\n",
        "\n",
        "device_info = data[0][\"newest_events\"]\n",
        "\n",
        "print(\"温度 : \"   + str(device_info[\"te\"][\"val\"]) + \"度\")\n",
        "print(\"湿度 : \"   + str(device_info[\"hu\"][\"val\"]) + \"%\")\n",
        "print(\"明るさは : \" + str(device_info[\"il\"][\"val\"]) + \"度\")\n",
        "\n",
        "detect_date_str = str(device_info[\"mo\"][\"created_at\"]).split(\"T\")[0].split(\"-\")\n",
        "detect_time_str = str(device_info[\"mo\"][\"created_at\"]).split(\"T\")[1].split(\"Z\")[0].split(\":\")\n",
        "\n",
        "detect_date = [int(n) for n in detect_date_str]\n",
        "detect_time = [int(n) for n in detect_time_str]\n",
        "\n",
        "date = datetime.datetime(year=detect_date[0], month=detect_date[1], day=detect_date[2], hour=detect_time[0], minute=detect_time[1], second=detect_time[2])\n",
        "now = datetime.datetime.now()\n",
        "difference_time = now - date\n",
        "\n",
        "if difference_time.days > 0:\n",
        "  print(\"人感センサー :{}日前\".format(difference_time.days))\n",
        "elif difference_time.total_seconds() > 3600:\n",
        "  print(\"人感センサー : {}時間前\".format(difference_time.total_seconds/3600))\n",
        "else:\n",
        "  print(\"人感センサー :{}分前\".format(int(difference_time.total_seconds()/60)))\n"
      ]
    },
    {
      "cell_type": "code",
      "source": [
        "from urllib.parse import urlencode\n",
        "from urllib.request import urlopen, Request\n",
        "from urllib.error import HTTPError\n",
        "from json import loads\n",
        "\n",
        "appliance = \"TV\" #操作する家電の種類[\"TV\", \"LIGHT\"]\n",
        "nickname = \"研究室TV\"   #テレビ/ライトのニックネーム\n",
        "#nickname = \"Atrium-light\"   #ライトのニックネーム\n",
        "api_access_key = \"wq-Cj1UBGmix8ZQu4llv3d4dnoB61UZRek1sk83mMs0.tcslmtYf6QYW3ssnbo9_TyM1ObK7YDkbbSqCyNBd-pk\" # APIアクセストークン\n",
        "\n",
        "url = \"https://api.nature.global\"\n",
        "\n",
        "headers = {\n",
        "    \"Authorization\" :\"Bearer \" + api_access_key,\n",
        "    \"accept\" :\"application/json\",\n",
        "    \"Content-Type\" :\"application/x-www-form-urlencoded\"\n",
        "}\n",
        "\n",
        "#全ての家電情報を取得\n",
        "request = Request(url + \"/1/appliances/\", headers=headers)\n",
        "\n",
        "try:\n",
        "  with urlopen(request) as response:\n",
        "    data = response.read()\n",
        "    devices = loads(data)\n",
        "except HTTPError as e:\n",
        "    print(e)\n",
        "\n",
        "\n",
        "#デバイスID探索\n",
        "device_id = \"\"\n",
        "\n",
        "for device in devices:\n",
        "  if device[\"type\"] == appliance and device[\"nickname\"] == nickname:\n",
        "    device_id = device[\"id\"]\n",
        "    buttons = device[appliance.lower()][\"buttons\"]\n",
        "\n",
        "\n",
        "#各ボタンの表示\n",
        "print(\"操作するボタンを数字で選んでください。\")\n",
        "num = 0\n",
        "for button in buttons:\n",
        "  if button[\"label\"] != \"\":#空白のボタンがあるためif文で処理\n",
        "    print(str(num) + \" :\\t\"  + button[\"label\"])\n",
        "    num += 1\n",
        "\n",
        "selected_button = int(input(\"入力:\"))\n",
        "signal = buttons[selected_button][\"name\"]\n",
        "\n",
        "#データ送信\n",
        "request = Request(url + \"/1/appliances/\" + device_id + \"/\" + appliance.lower(), headers=headers)\n",
        "\n",
        "data = {\n",
        "    \"button\": signal\n",
        "}\n",
        "\n",
        "data = urlencode(data).encode(\"utf-8\")\n",
        "\n",
        "try:\n",
        "  urlopen(request, data)\n",
        "  print(\"成功です。\")\n",
        "except HTTPError as e:\n",
        "    print(e)\n"
      ],
      "metadata": {
        "colab": {
          "base_uri": "https://localhost:8080/"
        },
        "id": "et0pl0ABRr-u",
        "outputId": "181087f9-bb3e-4ab5-c48f-0e6468c3c0f0"
      },
      "execution_count": 3,
      "outputs": [
        {
          "output_type": "stream",
          "name": "stdout",
          "text": [
            "操作するボタンを数字で選んでください。\n",
            "0 :\tPower\n",
            "1 :\tSource\n",
            "2 :\tSchedule\n",
            "3 :\tMute\n",
            "4 :\tTerrestrial\n",
            "5 :\tBS\n",
            "6 :\tCS\n",
            "7 :\tSelect Audio\n",
            "8 :\t1\n",
            "9 :\t2\n",
            "10 :\t3\n",
            "11 :\t4\n",
            "12 :\t5\n",
            "13 :\t6\n",
            "14 :\t7\n",
            "15 :\t8\n",
            "16 :\t9\n",
            "17 :\t10\n",
            "18 :\t11\n",
            "19 :\t12\n",
            "20 :\tBack\n",
            "21 :\tMenu\n",
            "22 :\tDisplay Change\n",
            "23 :\tData\n",
            "24 :\tNext Channel\n",
            "25 :\tPrevious Channel\n",
            "26 :\tLeft\n",
            "27 :\tTop\n",
            "28 :\tRight\n",
            "29 :\tBottom\n",
            "30 :\tOk\n",
            "31 :\tVolume Up\n",
            "32 :\tVolume Down\n",
            "33 :\tBlue\n",
            "34 :\tRed\n",
            "35 :\tGreen\n",
            "36 :\tYellow\n",
            "37 :\tFast Rewind\n",
            "38 :\tPlay\n",
            "39 :\tFast Forward\n",
            "40 :\tPrevious\n",
            "41 :\tPause\n",
            "42 :\tStop\n",
            "43 :\tNext\n",
            "44 :\tClear Sound\n",
            "45 :\tRec List\n",
            "46 :\tSettings\n",
            "47 :\tSubtitle\n",
            "48 :\tExit\n",
            "49 :\tRewind 10sec\n",
            "50 :\tForward 30sec\n",
            "入力:0\n",
            "成功です。\n"
          ]
        }
      ]
    },
    {
      "cell_type": "code",
      "source": [
        "from urllib.parse import urlencode\n",
        "from urllib.request import urlopen, Request\n",
        "from urllib.error import HTTPError\n",
        "from json import loads\n",
        "\n",
        "temperature = list(range(16, 31)) #温度\n",
        "operation_mode = [\"cool\", \"warm\", \"dry\", \"blow\", \"auto\"] #モード\n",
        "air_volume = [\"1\", \"2\", \"3\", \"4\", \"5\", \"auto\"] #風量\n",
        "air_direction = [\"1\", \"2\", \"3\", \"4\", \"5\", \"auto\"] #風向き\n",
        "button = [\"\", \"power-off\"] #電源 空白は電源オン\n",
        "\n",
        "nickname = \"研究室サーバーエアコン\"   #エアコンのニックネーム\n",
        "api_key = \"wq-Cj1UBGmix8ZQu4llv3d4dnoB61UZRek1sk83mMs0.tcslmtYf6QYW3ssnbo9_TyM1ObK7YDkbbSqCyNBd-pk\" # APIアクセストークン\n",
        "\n",
        "url = \"https://api.nature.global\"\n",
        "\n",
        "headers = {\n",
        "    \"accept\" :\"application/json\",\n",
        "    \"Authorization\" :\"Bearer \" + api_key,\n",
        "    \"Content-Type\" :\"application/x-www-form-urlencoded\"\n",
        "}\n",
        "\n",
        "req = Request(url + \"/1/appliances/\", headers=headers)\n",
        "\n",
        "try:\n",
        "  with urlopen(req) as response:\n",
        "    data = response.read()\n",
        "    devices = loads(data)\n",
        "except HTTPError as e:\n",
        "    print(e)\n",
        "\n",
        "AirCon_device_id = \"\"\n",
        "\n",
        "for device in devices:\n",
        "  if device[\"type\"] == \"AC\" and device[\"nickname\"] == nickname:\n",
        "    AirCon_device_id = device[\"id\"]\n",
        "    buttons = device[\"aircon\"]\n",
        "\n",
        "request = Request(url + \"/1/appliances/\" + AirCon_device_id + \"/aircon_settings\", headers=headers)\n",
        "\n",
        "data = {\n",
        "    \"temperature\": temperature[10],\n",
        "    \"operation_mode\": operation_mode[3],\n",
        "    \"air_volume\": air_volume[4],\n",
        "    \"air_direction\": air_direction[2],\n",
        "    \"button\": button[1],\n",
        "}\n",
        "\n",
        "data = urlencode(data).encode(\"utf-8\")\n",
        "\n",
        "try:\n",
        "  response = urlopen(request, data)\n",
        "  print(\"成功です。\")\n",
        "except HTTPError as e:\n",
        "    print(e)\n",
        "\n"
      ],
      "metadata": {
        "colab": {
          "base_uri": "https://localhost:8080/"
        },
        "id": "SCpnM9u9T3F_",
        "outputId": "ea26a3e6-03cb-4f06-cef6-85f3291ec7fa"
      },
      "execution_count": 2,
      "outputs": [
        {
          "output_type": "stream",
          "name": "stdout",
          "text": [
            "成功です。\n"
          ]
        }
      ]
    },
    {
      "cell_type": "code",
      "source": [
        "from remo import NatureRemoAPI\n",
        "api = NatureRemoAPI('wq-Cj1UBGmix8ZQu4llv3d4dnoB61UZRek1sk83mMs0.tcslmtYf6QYW3ssnbo9_TyM1ObK7YDkbbSqCyNBd-pk')\n",
        "devices = api.get_devices()\n",
        "devices"
      ],
      "metadata": {
        "id": "Syx3uvjeqz17"
      },
      "execution_count": null,
      "outputs": []
    }
  ]
}